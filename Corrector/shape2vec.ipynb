{
 "cells": [
  {
   "cell_type": "code",
   "execution_count": 85,
   "metadata": {},
   "outputs": [],
   "source": [
    "import torch\n",
    "import pandas as pd\n",
    "import numpy as np\n",
    "import pickle\n",
    "import torchvision.models as models"
   ]
  },
  {
   "cell_type": "code",
   "execution_count": 86,
   "metadata": {},
   "outputs": [],
   "source": [
    "dim = 50"
   ]
  },
  {
   "cell_type": "code",
   "execution_count": 8,
   "metadata": {},
   "outputs": [
    {
     "name": "stdout",
     "output_type": "stream",
     "text": [
      "Saved!\n"
     ]
    }
   ],
   "source": [
    "def exShapeMatrix(m_path='ShapeNet.pth', d=300):\n",
    "    m_path = m_path.replace('Net', 'Net_'+str(d)+'d')\n",
    "    pretrained_dict = torch.load(m_path)\n",
    "    M = pretrained_dict['model']['classifier.0.weight']\n",
    "    # resave\n",
    "    torch.save({'shape2vec': M}, f'shape2vec.{d}d')\n",
    "    print(\"Saved!\")\n",
    "# M = pretrained_dict['model']['classifier.0.weight'].cpu().detach().numpy()\n",
    "\n",
    "exShapeMatrix(d=dim)"
   ]
  },
  {
   "cell_type": "code",
   "execution_count": 4,
   "metadata": {},
   "outputs": [
    {
     "name": "stdout",
     "output_type": "stream",
     "text": [
      "torch.Size([3755, 50])\n"
     ]
    }
   ],
   "source": [
    "def get_label_dict():\n",
    "    f = open('./chinese_labels', 'rb')\n",
    "    label_dict = pickle.load(f)\n",
    "    f.close()\n",
    "    return label_dict\n",
    "\n",
    "id2char = get_label_dict()\n",
    "char2id = {x: y for x, y in zip(id2char.values(), id2char.keys())}\n",
    "\n",
    "def getAllReady():\n",
    "    id2char = get_label_dict()\n",
    "    char2id = {x: y for x, y in zip(id2char.values(), id2char.keys())}\n",
    "    M = torch.load(f'./shape2vec.{dim}d')['shape2vec']\n",
    "    print(M.shape)\n",
    "    return M\n",
    "    \n",
    "M = getAllReady()"
   ]
  },
  {
   "cell_type": "code",
   "execution_count": 87,
   "metadata": {},
   "outputs": [],
   "source": [
    "def getTopKSim(q_char, K=20):\n",
    "    id = char2id[q_char]\n",
    "    sim_lst = []\n",
    "    for i in range(M.shape[0]):\n",
    "        sim = torch.cosine_similarity(M[id], M[i], dim=-1)\n",
    "        sim_lst.append((sim, i))\n",
    "    sim_lst.sort(key=lambda x: x[0], reverse=True)\n",
    "    topK_id = sim_lst[1:K+1]\n",
    "    topK_char = []\n",
    "    for _, id in topK_id:\n",
    "        topK_char.append(id2char[id])\n",
    "    return topK_char\n"
   ]
  },
  {
   "cell_type": "markdown",
   "metadata": {},
   "source": [
    "#### Test"
   ]
  },
  {
   "cell_type": "code",
   "execution_count": 88,
   "metadata": {},
   "outputs": [
    {
     "name": "stdout",
     "output_type": "stream",
     "text": [
      "鹿： ['蔑', '席', '衷', '商', '胞', '展', '度', '厘', '底', '宦', '腕', '胰', '虎', '窟', '寇', '蓖', '腥', '庭', '彪', '脯']\n",
      "于： ['干', '子', '丁', '吁', '巧', '云', '壬', '古', '乎', '蹬', '予', '晋', '牙', '手', '天', '霞', '订', '责', '舌', '寸']\n",
      "茵： ['苗', '萤', '菌', '卤', '酋', '窗', '商', '谊', '苞', '芭', '萄', '笛', '值', '砖', '亩', '苟', '囱', '首', '宦', '茧']\n",
      "少： ['吵', '沙', '父', '小', '尘', '乡', '山', '今', '纱', '炒', '步', '夕', '刃', '尖', '抄', '诊', '仅', '立', '砂', '仪']\n",
      "饮： ['钦', '炊', '饥', '坎', '饭', '伙', '忱', '吹', '饺', '次', '恢', '饱', '欲', '砍', '收', '蚀', '价', '欧', '欢', '饶']\n"
     ]
    }
   ],
   "source": [
    "# 50d\n",
    "print(\"鹿：\", getTopKSim(\"鹿\", 20))\n",
    "print(\"于：\", getTopKSim(\"于\", 20))\n",
    "print(\"茵：\", getTopKSim(\"茵\", 20))\n",
    "print(\"少：\", getTopKSim(\"少\", 20))\n",
    "print(\"饮：\", getTopKSim(\"饮\", 20))"
   ]
  },
  {
   "cell_type": "code",
   "execution_count": null,
   "metadata": {},
   "outputs": [],
   "source": [
    "# 100d\n",
    "print(\"鹿：\", getTopKSim(\"鹿\", 20))\n",
    "print(\"于：\", getTopKSim(\"于\", 20))\n",
    "print(\"茵：\", getTopKSim(\"茵\", 20))\n",
    "print(\"少：\", getTopKSim(\"少\", 20))\n",
    "print(\"饮：\", getTopKSim(\"饮\", 20))"
   ]
  },
  {
   "cell_type": "code",
   "execution_count": null,
   "metadata": {},
   "outputs": [],
   "source": [
    "# 300d\n",
    "print(\"鹿：\", getTopKSim(\"鹿\", 20))\n",
    "print(\"于：\", getTopKSim(\"于\", 20))\n",
    "print(\"茵：\", getTopKSim(\"茵\", 20))\n",
    "print(\"少：\", getTopKSim(\"少\", 20))\n",
    "print(\"饮：\", getTopKSim(\"饮\", 20))"
   ]
  },
  {
   "cell_type": "markdown",
   "metadata": {},
   "source": [
    "#### 形似字字典"
   ]
  },
  {
   "cell_type": "code",
   "execution_count": null,
   "metadata": {},
   "outputs": [],
   "source": [
    "# 生成（~2hrs）\n",
    "def getTopKSimDict(K=20):\n",
    "    sim_dct = {}\n",
    "    for q_char in char2id.keys():\n",
    "        id = char2id[q_char]\n",
    "        sim_lst = []\n",
    "        for i in range(M.shape[0]):\n",
    "            sim = torch.cosine_similarity(M[id], M[i], dim=-1)\n",
    "            sim_lst.append((sim, i))\n",
    "        sim_lst.sort(key=lambda x: x[0], reverse=True)\n",
    "        topK_id = sim_lst[1:K+1]\n",
    "        topK_char = []\n",
    "        for _, id in topK_id:\n",
    "            topK_char.append(id2char[id])\n",
    "        sim_dct[q_char] = topK_char\n",
    "    return sim_dct\n",
    "\n",
    "sim_dct = getTopKSimDict()\n",
    "torch.save(sim_dct, \"./sim_dct\")"
   ]
  },
  {
   "cell_type": "code",
   "execution_count": 89,
   "metadata": {},
   "outputs": [],
   "source": [
    "# 加载\n",
    "def get_sim_dict():\n",
    "    sim_dict = torch.load('sim_dct')\n",
    "    return sim_dict\n",
    "\n",
    "sim_dct = get_sim_dict()"
   ]
  },
  {
   "cell_type": "code",
   "execution_count": 90,
   "metadata": {},
   "outputs": [],
   "source": [
    "# 字间相似度\n",
    "def charSim(c1=\"于\", c2=\"干\"):\n",
    "    # if not exists\n",
    "    if char2id.get(c1) is None or char2id.get(c2) is None:\n",
    "        return\n",
    "    sim = torch.cosine_similarity(M[char2id[c1]], M[char2id[c2]], dim=-1)\n",
    "    return sim"
   ]
  },
  {
   "cell_type": "code",
   "execution_count": 91,
   "metadata": {},
   "outputs": [
    {
     "name": "stdout",
     "output_type": "stream",
     "text": [
      "tensor(0.5860, device='cuda:0')\n",
      "tensor(0.5262, device='cuda:0')\n"
     ]
    }
   ],
   "source": [
    "print(charSim(c1=\"于\", c2=\"干\"))\n",
    "print(charSim(c1=\"望\", c2=\"谨\"))"
   ]
  },
  {
   "cell_type": "markdown",
   "metadata": {},
   "source": [
    "#### albert"
   ]
  },
  {
   "cell_type": "code",
   "execution_count": 92,
   "metadata": {},
   "outputs": [],
   "source": [
    "# pip install transformers==2.2.2\n",
    "from transformers import BertTokenizer, AlbertForMaskedLM\n",
    "import torch\n",
    "import copy\n",
    "from torch.nn.functional import softmax\n",
    "\n",
    "pretrained = 'voidful/albert_chinese_tiny'\n",
    "tokenizer = BertTokenizer.from_pretrained(pretrained)\n",
    "model = AlbertForMaskedLM.from_pretrained(pretrained)"
   ]
  },
  {
   "cell_type": "code",
   "execution_count": 93,
   "metadata": {},
   "outputs": [],
   "source": [
    "def correctAll(sent=\"\"):\n",
    "    assert(len(sent) > 1)\n",
    "    for i in range(len(sent)):\n",
    "        msk_char = sent[i]\n",
    "        msk_sent = sent[:i] + \"[MASK]\" + sent[i+1:]\n",
    "        if msk_sent is not None:\n",
    "            maskpos = tokenizer.encode(msk_sent, add_special_tokens=True).index(103)\n",
    "\n",
    "            input_ids = torch.tensor(tokenizer.encode(msk_sent, add_special_tokens=True)).unsqueeze(0)  # Batch size 1\n",
    "            outputs = model(input_ids, masked_lm_labels=input_ids)\n",
    "\n",
    "            loss, prediction_scores = outputs[:2]\n",
    "\n",
    "            logit_prob = softmax(prediction_scores[0, maskpos], dim=0).data.tolist()\n",
    "\n",
    "            _, indices = torch.topk(prediction_scores[0, maskpos], k=10, dim=0)\n",
    "\n",
    "            for idx in indices:\n",
    "                idx = idx.item()\n",
    "                predicted_token = tokenizer.convert_ids_to_tokens([idx])[0]\n",
    "                sim = charSim(c1=msk_char, c2=predicted_token)\n",
    "                if sim is not None and sim > 0.5:\n",
    "                    if sent[i] != predicted_token:\n",
    "                        print(f\"{sent[i]} -> {predicted_token}\")\n",
    "                    sent = sent[:i] + predicted_token + sent[i+1:]\n",
    "                    break\n",
    "    return sent\n"
   ]
  },
  {
   "cell_type": "code",
   "execution_count": 94,
   "metadata": {},
   "outputs": [
    {
     "name": "stdout",
     "output_type": "stream",
     "text": [
      "令 -> 今\n",
      "请 -> 情\n",
      "今天心情不错！\n"
     ]
    }
   ],
   "source": [
    "print(correctAll(\"令天心请不错！\"))"
   ]
  },
  {
   "cell_type": "code",
   "execution_count": 64,
   "metadata": {},
   "outputs": [
    {
     "name": "stdout",
     "output_type": "stream",
     "text": [
      "金 -> 全\n",
      "全国90%以上进口冷链食品可追溯\n"
     ]
    }
   ],
   "source": [
    "print(correctAll(\"金国90%以上进口冷链食品可追溯\"))"
   ]
  },
  {
   "cell_type": "code",
   "execution_count": 65,
   "metadata": {},
   "outputs": [
    {
     "name": "stdout",
     "output_type": "stream",
     "text": [
      "州 -> 洲\n",
      "王 -> 主\n",
      "拜登拟任命亚洲事务主管\n"
     ]
    }
   ],
   "source": [
    "print(correctAll(\"拜登拟任命亚州事务王管\"))"
   ]
  },
  {
   "cell_type": "code",
   "execution_count": 66,
   "metadata": {},
   "outputs": [
    {
     "name": "stdout",
     "output_type": "stream",
     "text": [
      "小 -> 少\n",
      "小先队圆全称：中国少年先锋队队员\n"
     ]
    }
   ],
   "source": [
    "print(correctAll(\"小先队圆全称：中国小年先锋队队员\"))"
   ]
  },
  {
   "cell_type": "code",
   "execution_count": 56,
   "metadata": {},
   "outputs": [
    {
     "name": "stdout",
     "output_type": "stream",
     "text": [
      "员 -> 长\n",
      "员 -> 大\n",
      "湾 -> 海\n",
      "长大的太阳海湾的月亮。\n"
     ]
    }
   ],
   "source": [
    "print(correctAll(\"员员的太阳湾湾的月亮。\"))"
   ]
  },
  {
   "cell_type": "markdown",
   "metadata": {},
   "source": [
    "#### DATASET 4 TEST"
   ]
  },
  {
   "cell_type": "code",
   "execution_count": 12,
   "metadata": {},
   "outputs": [],
   "source": [
    "import random"
   ]
  },
  {
   "cell_type": "code",
   "execution_count": 13,
   "metadata": {},
   "outputs": [
    {
     "data": {
      "text/plain": [
       "0.883338453887229"
      ]
     },
     "execution_count": 13,
     "metadata": {},
     "output_type": "execute_result"
    }
   ],
   "source": [
    "random.random()"
   ]
  },
  {
   "cell_type": "code",
   "execution_count": 70,
   "metadata": {},
   "outputs": [],
   "source": [
    "with open(\"pairs_test.txt\", mode=\"w\", encoding='utf8') as p:\n",
    "    with open(\"correct_test.txt\", encoding='utf8') as f:\n",
    "        for line in f.readlines():\n",
    "            new = mix(line).replace('\\n', '')\n",
    "            p.write(new + '\\t' + line)"
   ]
  },
  {
   "cell_type": "code",
   "execution_count": 69,
   "metadata": {},
   "outputs": [
    {
     "name": "stdout",
     "output_type": "stream",
     "text": [
      "传《半绦命2：第三章》今年发售无望\n"
     ]
    }
   ],
   "source": [
    "def mix(sent):\n",
    "    sent = list(sent)\n",
    "    new = \"\"\n",
    "    for idx in range(len(sent)):\n",
    "        if random.random() > 0.8 and sim_dct.get(sent[idx]) is not None:\n",
    "            v = random.choice(sim_dct[sent[idx]][:2])\n",
    "            if charSim(sent[idx], v) > 0.5:\n",
    "                sent[idx] = random.choice(sim_dct[sent[idx]][:3])\n",
    "    for ch in sent:\n",
    "        new += ch\n",
    "    return new\n",
    "print(mix(\"传《半条命2：第三章》今年发售无望\"))"
   ]
  },
  {
   "cell_type": "code",
   "execution_count": 48,
   "metadata": {},
   "outputs": [
    {
     "name": "stdout",
     "output_type": "stream",
     "text": [
      "['传', '《', '伴', '绦', '俞', '2', '：', '第', '三', '章', '》', '今', '年', '发', '售', '无', '望']\n"
     ]
    }
   ],
   "source": [
    "sent = \"传《半条命2：第三章》今年发售无望\"\n",
    "sent = list(sent)\n",
    "new = \"\"\n",
    "for idx in range(len(sent)):\n",
    "    if random.random() > 0.8 and sim_dct.get(sent[idx]) is not None:\n",
    "        sent[idx] = random.choice(sim_dct[sent[idx]][:2])\n",
    "sent = "
   ]
  },
  {
   "cell_type": "code",
   "execution_count": 51,
   "metadata": {},
   "outputs": [
    {
     "data": {
      "text/plain": [
       "\"['传', '《', '伴', '绦', '俞', '2', '：', '第', '三', '章', '》', '今', '年', '发', '售', '无', '望']\""
      ]
     },
     "execution_count": 51,
     "metadata": {},
     "output_type": "execute_result"
    }
   ],
   "source": [
    "str(sent)"
   ]
  },
  {
   "cell_type": "code",
   "execution_count": null,
   "metadata": {},
   "outputs": [],
   "source": []
  },
  {
   "cell_type": "code",
   "execution_count": 30,
   "metadata": {},
   "outputs": [
    {
     "data": {
      "text/plain": [
       "'冈'"
      ]
     },
     "execution_count": 30,
     "metadata": {},
     "output_type": "execute_result"
    }
   ],
   "source": [
    "random.choice(sim_dct[\"风\"][:3])"
   ]
  },
  {
   "cell_type": "code",
   "execution_count": 49,
   "metadata": {},
   "outputs": [
    {
     "data": {
      "text/plain": [
       "['谨', '窒', '塑']"
      ]
     },
     "execution_count": 49,
     "metadata": {},
     "output_type": "execute_result"
    }
   ],
   "source": [
    "sim_dct[\"望\"][:3]"
   ]
  },
  {
   "cell_type": "code",
   "execution_count": null,
   "metadata": {},
   "outputs": [],
   "source": []
  }
 ],
 "metadata": {
  "kernelspec": {
   "display_name": "Python 3",
   "language": "python",
   "name": "python3"
  },
  "language_info": {
   "codemirror_mode": {
    "name": "ipython",
    "version": 3
   },
   "file_extension": ".py",
   "mimetype": "text/x-python",
   "name": "python",
   "nbconvert_exporter": "python",
   "pygments_lexer": "ipython3",
   "version": "3.8.3"
  }
 },
 "nbformat": 4,
 "nbformat_minor": 4
}
