{
 "cells": [
  {
   "cell_type": "code",
   "execution_count": null,
   "metadata": {
    "scrolled": true,
    "pycharm": {
     "is_executing": true
    }
   },
   "outputs": [],
   "source": [
    "from model import BiLSTM # don't delete it!!\n",
    "from val_utils import *\n",
    "import torch\n",
    "device = torch.device('cuda')"
   ]
  },
  {
   "cell_type": "code",
   "execution_count": 2,
   "metadata": {},
   "outputs": [],
   "source": [
    "input_sentence = '数学[mask]使用在不同的领'\n",
    "model = torch.load(\"./model/LM.pt\").to(device)"
   ]
  },
  {
   "cell_type": "code",
   "execution_count": 3,
   "metadata": {},
   "outputs": [
    {
     "name": "stdout",
     "output_type": "stream",
     "text": [
      "(['数', '学', '/', '使', '用', '在', '不', '同', '的', '领'], 2)\n"
     ]
    }
   ],
   "source": [
    "#删掉[mask]\n",
    "def de_mask(input_sentence):\n",
    "    input = list(input_sentence)\n",
    "    for i in range(len(input)):\n",
    "        if i + 2 <= len(input) and input[i] == '[' and input[i + 1] == 'm' and input[i + 2] == 'a':\n",
    "            input[i] = '/'#'/'在词典中不存在，将以<unk>处理\n",
    "            flag = i#标明位置\n",
    "            del input[i+1:i + 6]\n",
    "    return input, flag\n",
    "print(de_mask(input_sentence))"
   ]
  },
  {
   "cell_type": "code",
   "execution_count": 4,
   "metadata": {},
   "outputs": [],
   "source": [
    "def get_prob(input_sentence, flag):\n",
    "    '''\n",
    "\n",
    "    :param input_sentence:\n",
    "    :return:\n",
    "    '''\n",
    "    L = len(list(input_sentence))\n",
    "    input = torch.zeros([1, L], dtype=torch.int64).to(device)\n",
    "\n",
    "    input_indices, _ = sentences_to_indices(input_sentence, w2i, L)\n",
    "\n",
    "    for i in range(L):\n",
    "        input[0][i] = input_indices[i]\n",
    "\n",
    "    out = softmax(model(input).view(L, 7100), dim=1)\n",
    "\n",
    "    indices = list(torch.argsort(out[flag], descending=True)[0:9].cpu().detach().numpy())\n",
    "\n",
    "    for idx in range(len(indices)):\n",
    "        key = indices[idx]\n",
    "        word = i2w[key]\n",
    "        prob = out[flag][key].cpu().detach().numpy()\n",
    "        print(prob, word)"
   ]
  },
  {
   "cell_type": "code",
   "execution_count": 5,
   "metadata": {},
   "outputs": [
    {
     "name": "stdout",
     "output_type": "stream",
     "text": [
      "0.30048275 垆\n",
      "0.11872694 寅\n",
      "0.09722553 幂\n",
      "0.08734936 阀\n",
      "0.062485695 晤\n",
      "0.04865133 瑙\n",
      "0.028242858 敛\n",
      "0.026149113 祗\n",
      "0.0226325 昭\n"
     ]
    }
   ],
   "source": [
    "s, flag = de_mask(input_sentence)\n",
    "get_prob(s, flag)"
   ]
  },
  {
   "cell_type": "code",
   "execution_count": null,
   "metadata": {},
   "outputs": [],
   "source": []
  }
 ],
 "metadata": {
  "kernelspec": {
   "display_name": "Python 3",
   "language": "python",
   "name": "python3"
  },
  "language_info": {
   "codemirror_mode": {
    "name": "ipython",
    "version": 3
   },
   "file_extension": ".py",
   "mimetype": "text/x-python",
   "name": "python",
   "nbconvert_exporter": "python",
   "pygments_lexer": "ipython3",
   "version": "3.8.3"
  }
 },
 "nbformat": 4,
 "nbformat_minor": 4
}