{
 "cells": [
  {
   "cell_type": "code",
   "execution_count": 1,
   "metadata": {},
   "outputs": [],
   "source": [
    "from model import BiLSTM\n",
    "from utils import sentences_to_indices, w2i, i2w\n",
    "import torch\n",
    "from torch.nn.functional import softmax\n",
    "device = torch.device('cuda')"
   ]
  },
  {
   "cell_type": "code",
   "execution_count": 2,
   "metadata": {},
   "outputs": [],
   "source": [
    "#原始的句子\n",
    "ori_input_sentence = '今天出了太阳'\n",
    "#识别结果\n",
    "re_out = '令天出了太阳'\n",
    "#遮挡的句子\n",
    "input_sentence = '[mask]天出了太阳'\n",
    "\n",
    "similar = ['今', '令', '金']# 假设shape2vector结果"
   ]
  },
  {
   "cell_type": "code",
   "execution_count": 3,
   "metadata": {},
   "outputs": [],
   "source": [
    "model = torch.load(\"./model/LM.pt\").to(device)"
   ]
  },
  {
   "cell_type": "code",
   "execution_count": 4,
   "metadata": {},
   "outputs": [],
   "source": [
    "def de_mask(input_sentence):\n",
    "    input = list(input_sentence)\n",
    "    for i in range(len(input)):\n",
    "        if i + 2 <= len(input) and input[i] == '[' and input[i + 1] == 'm' and input[i + 2] == 'a':\n",
    "            input[i] = '/'\n",
    "            flag = i\n",
    "            del input[i+1:i + 6]\n",
    "    return input, flag"
   ]
  },
  {
   "cell_type": "code",
   "execution_count": 5,
   "metadata": {},
   "outputs": [],
   "source": [
    "def get_prob(input_sentence, flag):\n",
    "    '''\n",
    "\n",
    "    :param input_sentence:\n",
    "    :return:\n",
    "    '''\n",
    "    L = len(list(input_sentence))\n",
    "    input = torch.zeros([1, L], dtype=torch.int64).to(device)\n",
    "\n",
    "    input_indices, _ = sentences_to_indices(input_sentence, w2i, L)\n",
    "\n",
    "    for i in range(L):\n",
    "        input[0][i] = input_indices[i]\n",
    "\n",
    "    out = softmax(model(input).view(L, 7100), dim=1)\n",
    "\n",
    "    similar_indices = []\n",
    "    out_similar = []\n",
    "    for word in similar:\n",
    "        similar_indices.append(w2i[word])\n",
    "        out_similar.append(out[flag][w2i[word]])\n",
    "\n",
    "    indices = torch.argsort(torch.Tensor(out_similar), descending=True).cpu().detach().numpy()\n",
    "\n",
    "    for idx in range(len(indices)):\n",
    "        key = indices[idx]\n",
    "        word = similar[key]\n",
    "        prob = out[flag][key].cpu().detach().numpy()\n",
    "        print(prob, word)"
   ]
  },
  {
   "cell_type": "code",
   "execution_count": 6,
   "metadata": {},
   "outputs": [
    {
     "name": "stdout",
     "output_type": "stream",
     "text": [
      "0.004727297 今\n",
      "4.0581634e-07 令\n",
      "5.2470155e-06 金\n"
     ]
    }
   ],
   "source": [
    "s, flag = de_mask(input_sentence)\n",
    "get_prob(s, flag)"
   ]
  },
  {
   "cell_type": "code",
   "execution_count": null,
   "metadata": {},
   "outputs": [],
   "source": []
  }
 ],
 "metadata": {
  "kernelspec": {
   "display_name": "Python (pytorch)",
   "language": "python",
   "name": "pytorch"
  },
  "language_info": {
   "codemirror_mode": {
    "name": "ipython",
    "version": 3
   },
   "file_extension": ".py",
   "mimetype": "text/x-python",
   "name": "python",
   "nbconvert_exporter": "python",
   "pygments_lexer": "ipython3",
   "version": "3.6.11"
  }
 },
 "nbformat": 4,
 "nbformat_minor": 4
}
