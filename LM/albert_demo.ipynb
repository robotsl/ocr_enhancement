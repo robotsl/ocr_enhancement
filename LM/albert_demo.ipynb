{
 "cells": [
  {
   "cell_type": "code",
   "execution_count": 1,
   "metadata": {},
   "outputs": [],
   "source": [
    "# pip install transformers==2.2.2\n",
    "from transformers import BertTokenizer, AlbertForMaskedLM\n",
    "import torch\n",
    "from torch.nn.functional import softmax\n",
    "\n",
    "pretrained = 'voidful/albert_chinese_tiny'\n",
    "tokenizer = BertTokenizer.from_pretrained(pretrained)\n",
    "model = AlbertForMaskedLM.from_pretrained(pretrained)\n"
   ]
  },
  {
   "cell_type": "code",
   "execution_count": 2,
   "metadata": {},
   "outputs": [
    {
     "name": "stdout",
     "output_type": "stream",
     "text": [
      "2\n"
     ]
    }
   ],
   "source": [
    "# p(w_i|w_{i-1})\n",
    "inputtext = \"样[MASK]\"  \n",
    "# inputtext = \"今天心[MASK]不错。\"\n",
    "# inputtext = \"[MASK]天心请不错。\"\n",
    "\n",
    "# vocab[103] is [MASK]\n",
    "maskpos = tokenizer.encode(inputtext, add_special_tokens=True).index(103)\n",
    "print(maskpos)\n",
    "input_ids = torch.tensor(tokenizer.encode(inputtext, add_special_tokens=True)).unsqueeze(0)  # Batch size 1\n",
    "outputs = model(input_ids, masked_lm_labels=input_ids)\n",
    "\n",
    "loss, prediction_scores = outputs[:2]\n",
    "\n",
    "logit_prob = softmax(prediction_scores[0, maskpos], dim=0).data.tolist()"
   ]
  },
  {
   "cell_type": "code",
   "execution_count": 3,
   "metadata": {},
   "outputs": [
    {
     "name": "stdout",
     "output_type": "stream",
     "text": [
      "本 0.2282388061285019\n",
      "的 0.2233668714761734\n",
      "， 0.10351458191871643\n",
      "子 0.09888581186532974\n",
      "。 0.09253545850515366\n",
      "？ 0.09123080968856812\n",
      "式 0.041516803205013275\n",
      "品 0.00947515107691288\n",
      "材 0.004478297661989927\n",
      "型 0.003998422063887119\n"
     ]
    }
   ],
   "source": [
    "_, indices = torch.topk(prediction_scores[0, maskpos], k=10, dim=0)\n",
    "\n",
    "for idx in indices:\n",
    "    idx = idx.item()\n",
    "    predicted_token = tokenizer.convert_ids_to_tokens([idx])[0]\n",
    "    print(predicted_token, logit_prob[idx])"
   ]
  },
  {
   "cell_type": "code",
   "execution_count": null,
   "metadata": {},
   "outputs": [],
   "source": []
  }
 ],
 "metadata": {
  "kernelspec": {
   "display_name": "Python 3",
   "language": "python",
   "name": "python3"
  },
  "language_info": {
   "codemirror_mode": {
    "name": "ipython",
    "version": 3
   },
   "file_extension": ".py",
   "mimetype": "text/x-python",
   "name": "python",
   "nbconvert_exporter": "python",
   "pygments_lexer": "ipython3",
   "version": "3.8.3"
  }
 },
 "nbformat": 4,
 "nbformat_minor": 4
}
